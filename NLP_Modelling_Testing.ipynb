{
  "nbformat": 4,
  "nbformat_minor": 0,
  "metadata": {
    "colab": {
      "provenance": []
    },
    "kernelspec": {
      "name": "python3",
      "display_name": "Python 3"
    }
  },
  "cells": [
    {
      "cell_type": "code",
      "metadata": {
        "id": "5brzF9ovnFMd"
      },
      "source": [
        "import numpy as np"
      ],
      "execution_count": null,
      "outputs": []
    },
    {
      "cell_type": "code",
      "metadata": {
        "id": "b6OP_sRgAIu4"
      },
      "source": [
        "sarcasm=np.load(\"posproc.npy\")\n",
        "neutral=np.load(\"negproc.npy\")"
      ],
      "execution_count": null,
      "outputs": []
    },
    {
      "cell_type": "code",
      "metadata": {
        "id": "rrUDnBjAAKxO",
        "colab": {
          "base_uri": "https://localhost:8080/",
          "height": 394
        },
        "outputId": "1af32e2a-432c-4773-92c7-20d068296b63"
      },
      "source": [
        "print (\"10 sample sarcastic lines:\")\n",
        "print (sarcasm[:10])\n",
        "print (\"10 sample non-sarcastic lines:\")\n",
        "print (neutral[:10])\n"
      ],
      "execution_count": null,
      "outputs": [
        {
          "output_type": "stream",
          "text": [
            "10 sample sarcastic lines:\n",
            "[b'My family is so open and loving.'\n",
            " b\"What who did to who? Others? Let America decide what to do? That's helpful advice!\"\n",
            " b'and texts dont go'\n",
            " b\"Malaysians who CAN'T spell Khmer Rouge \\\\/ Agent Orange ARE 99.99% QUITE LIKELY able to spell Slobodan Milosevic \\\\/ depleted uranium.\"\n",
            " b'And with a jacked up phone. This plane ride will be fan-wait for it-tastic'\n",
            " b\"Don't be rude send a nude wow that should be on a pillow\"\n",
            " b'New iOS update for my iPhone, apparently. Oh, yippee.'\n",
            " b'I feel sorry for Casillas.'\n",
            " b'Conflicting Reports that Ayman Zawahiri will send his video response to via Vine App or Instagram .'\n",
            " b'Yes because running and shooting is soooo easy']\n",
            "10 sample non-sarcastic lines:\n",
            "[b'Yo $20 to gets me and takes me to mcdonalds'\n",
            " b'A nigga will fuck anything ugh'\n",
            " b\"I hate when people try to tell me about me. You don't know me.\"\n",
            " b'thought i would have some off time for the summer , but i guess thats not the case .'\n",
            " b'I knew I should have boughten those bright creamy orange sherbet delicious soccer clears at nike town yesterday'\n",
            " b'The best listening to at the same time!' b'Chillin at merch tent at'\n",
            " b'Let her do it for the vine'\n",
            " b'Balo, Michael Jordan Steak House, Fifth Season all within 24hrs... Eating good this weekend.'\n",
            " b'I say ima start tweeting more. Then I be like .. \\\\\" fuck ima talk about \\\\\"']\n"
          ],
          "name": "stdout"
        }
      ]
    },
    {
      "cell_type": "code",
      "metadata": {
        "id": "h0NE8-fhEJkq"
      },
      "source": [
        "from sklearn.feature_extraction.text import TfidfVectorizer\n",
        "from sklearn.model_selection import train_test_split\n",
        "from sklearn.naive_bayes import MultinomialNB\n",
        "from sklearn.metrics import accuracy_score\n",
        "from scipy.sparse import csr_matrix"
      ],
      "execution_count": null,
      "outputs": []
    },
    {
      "cell_type": "code",
      "metadata": {
        "id": "H3GLkhHhEMFU",
        "colab": {
          "base_uri": "https://localhost:8080/",
          "height": 51
        },
        "outputId": "f19b99f1-fef0-4da3-e3bf-fed684a32901"
      },
      "source": [
        "labels=[]\n",
        "sarcasm_size=len(sarcasm)\n",
        "print (\"Total sarcastic lines = \"+str(sarcasm_size))\n",
        "neutral_size=len(neutral)\n",
        "print (\"Total non-sarcastic lines = \"+str(neutral_size))"
      ],
      "execution_count": null,
      "outputs": [
        {
          "output_type": "stream",
          "text": [
            "Total sarcastic lines = 25278\n",
            "Total non-sarcastic lines = 117842\n"
          ],
          "name": "stdout"
        }
      ]
    },
    {
      "cell_type": "code",
      "metadata": {
        "id": "lOHjEBJSEOIO",
        "colab": {
          "base_uri": "https://localhost:8080/",
          "height": 34
        },
        "outputId": "522606a9-def5-4395-ba47-2626af327b2a"
      },
      "source": [
        "for i in range(0,sarcasm_size):\n",
        "    labels.append(1)\n",
        "for i in range(0,neutral_size):\n",
        "    labels.append(0)\n",
        "print (len(labels))\n"
      ],
      "execution_count": null,
      "outputs": [
        {
          "output_type": "stream",
          "text": [
            "143120\n"
          ],
          "name": "stdout"
        }
      ]
    },
    {
      "cell_type": "code",
      "metadata": {
        "id": "4MyPo7-XEQMA",
        "colab": {
          "base_uri": "https://localhost:8080/",
          "height": 102
        },
        "outputId": "7de3b375-7434-4398-f43d-6506d89dfe6a"
      },
      "source": [
        "dataset=np.concatenate([sarcasm,neutral])\n",
        "print (\"Total length of dataset = \"+str(len(dataset)))\n",
        "print(dataset)"
      ],
      "execution_count": null,
      "outputs": [
        {
          "output_type": "stream",
          "text": [
            "Total length of dataset = 143120\n",
            "[b'My family is so open and loving.'\n",
            " b\"What who did to who? Others? Let America decide what to do? That's helpful advice!\"\n",
            " b'and texts dont go' ... b'Anyone wanna go kayaking with me tomorrow'\n",
            " b'Finals MVP Green or Leonard' b'Dempsey back on, only a bloody nose']\n"
          ],
          "name": "stdout"
        }
      ]
    },
    {
      "cell_type": "code",
      "metadata": {
        "id": "R2LfXgGrESQH",
        "colab": {
          "base_uri": "https://localhost:8080/",
          "height": 51
        },
        "outputId": "d7836fc0-9138-46f5-e115-302b316ea097"
      },
      "source": [
        "from sklearn.naive_bayes import BernoulliNB\n",
        "vec, clf = TfidfVectorizer(min_df=5), BernoulliNB()\n",
        "td_matrix = vec.fit_transform(dataset)\n",
        "print (\"Shape of matrix = \"+str(td_matrix.shape))\n",
        "print (\"Length of the labels = \"+str(len(labels)))\n",
        "X_train, X_test, y_train, y_test = train_test_split(td_matrix, labels,test_size=0.2, random_state=0)\n"
      ],
      "execution_count": null,
      "outputs": [
        {
          "output_type": "stream",
          "text": [
            "Shape of matrix = (143120, 13451)\n",
            "Length of the labels = 143120\n"
          ],
          "name": "stdout"
        }
      ]
    },
    {
      "cell_type": "code",
      "metadata": {
        "id": "0tDBhQhOEUWO"
      },
      "source": [
        "clf.fit(X_train, y_train)\n",
        "y_out = clf.predict(X_test)\n"
      ],
      "execution_count": null,
      "outputs": []
    },
    {
      "cell_type": "code",
      "metadata": {
        "id": "BjgPBeHXEWrm",
        "colab": {
          "base_uri": "https://localhost:8080/",
          "height": 51
        },
        "outputId": "74109d2d-f67d-46a8-d405-7552bc2bbad3"
      },
      "source": [
        "print(\"Accuracy on held-out data: \",      str(100*accuracy_score(y_out, y_test))[0:5], \"%\\n\")"
      ],
      "execution_count": null,
      "outputs": [
        {
          "output_type": "stream",
          "text": [
            "Accuracy on held-out data:  84.49 %\n",
            "\n"
          ],
          "name": "stdout"
        }
      ]
    },
    {
      "cell_type": "code",
      "metadata": {
        "id": "nFJlZXSiEe-u",
        "colab": {
          "base_uri": "https://localhost:8080/",
          "height": 884
        },
        "outputId": "2816d2a2-5c6f-4583-bf00-101ccdfab532"
      },
      "source": [
        "print((X_test))"
      ],
      "execution_count": null,
      "outputs": [
        {
          "output_type": "stream",
          "text": [
            "  (0, 12275)\t0.41577394255483385\n",
            "  (0, 12637)\t0.539464622376906\n",
            "  (0, 11747)\t0.31215794189685564\n",
            "  (0, 11076)\t0.2503075915019708\n",
            "  (0, 11917)\t0.2594982825005848\n",
            "  (0, 1380)\t0.26366129630825325\n",
            "  (0, 12433)\t0.2927579876637273\n",
            "  (0, 309)\t0.21561093601772294\n",
            "  (0, 8247)\t0.28089898820469533\n",
            "  (0, 8465)\t0.16750308775027645\n",
            "  (1, 1606)\t0.5487214969472748\n",
            "  (1, 1441)\t0.4131594690401621\n",
            "  (1, 6806)\t0.43746701446456715\n",
            "  (1, 7080)\t0.2629558851989678\n",
            "  (1, 8399)\t0.27862816517101174\n",
            "  (1, 11965)\t0.2748572970995152\n",
            "  (1, 5138)\t0.2860361910326418\n",
            "  (1, 4681)\t0.1807868768721913\n",
            "  (2, 9609)\t0.366608266319345\n",
            "  (2, 9702)\t0.36589700100770284\n",
            "  (2, 8977)\t0.31995152071711613\n",
            "  (2, 5071)\t0.3456417757657901\n",
            "  (2, 4517)\t0.2629184122158535\n",
            "  (2, 4297)\t0.28210794227102276\n",
            "  (2, 4165)\t0.22655130000871956\n",
            "  :\t:\n",
            "  (28622, 12719)\t0.3638385112875911\n",
            "  (28622, 11932)\t0.12978086507532524\n",
            "  (28622, 5140)\t0.26283785142686816\n",
            "  (28622, 8397)\t0.1778139541277853\n",
            "  (28622, 8467)\t0.25510589494933444\n",
            "  (28622, 6241)\t0.16698424323050398\n",
            "  (28623, 12529)\t0.4051990894546327\n",
            "  (28623, 13278)\t0.2519598218249527\n",
            "  (28623, 7017)\t0.31401750517369065\n",
            "  (28623, 10631)\t0.2010488344290986\n",
            "  (28623, 1046)\t0.2428763191046832\n",
            "  (28623, 7630)\t0.3089779821095298\n",
            "  (28623, 6933)\t0.19121670278876693\n",
            "  (28623, 144)\t0.2514322093861353\n",
            "  (28623, 4796)\t0.2503409242011077\n",
            "  (28623, 1367)\t0.2066666603554918\n",
            "  (28623, 5014)\t0.16012271536310663\n",
            "  (28623, 6953)\t0.28935740576336294\n",
            "  (28623, 10460)\t0.19041031852324325\n",
            "  (28623, 3631)\t0.16091420724612737\n",
            "  (28623, 12114)\t0.09242050318290553\n",
            "  (28623, 683)\t0.11214395105134368\n",
            "  (28623, 11029)\t0.13674865015241985\n",
            "  (28623, 6241)\t0.11507727211903115\n",
            "  (28623, 7898)\t0.22159670111129284\n"
          ],
          "name": "stdout"
        }
      ]
    },
    {
      "cell_type": "code",
      "metadata": {
        "id": "-JIlLX5ZEpMn"
      },
      "source": [
        "vec1= TfidfVectorizer(min_df=0.01)"
      ],
      "execution_count": null,
      "outputs": []
    },
    {
      "cell_type": "code",
      "metadata": {
        "id": "l9qT7ZbmFKpf",
        "colab": {
          "base_uri": "https://localhost:8080/",
          "height": 85
        },
        "outputId": "8374d516-3019-42d4-d920-a68d4763b21d"
      },
      "source": [
        "pred1= vec1.fit_transform([\"hey i didnt ask you\"])\n",
        "print(pred1)"
      ],
      "execution_count": null,
      "outputs": [
        {
          "output_type": "stream",
          "text": [
            "  (0, 3)\t0.5\n",
            "  (0, 0)\t0.5\n",
            "  (0, 1)\t0.5\n",
            "  (0, 2)\t0.5\n"
          ],
          "name": "stdout"
        }
      ]
    },
    {
      "cell_type": "code",
      "metadata": {
        "id": "w7qDiBgqLLV_",
        "colab": {
          "base_uri": "https://localhost:8080/",
          "height": 163
        },
        "outputId": "f47725a2-996c-46f8-c890-4edc29c9a3e6"
      },
      "source": [
        "y_out = clf.predict(pred1,batch_size=1)"
      ],
      "execution_count": null,
      "outputs": [
        {
          "output_type": "error",
          "ename": "TypeError",
          "evalue": "ignored",
          "traceback": [
            "\u001b[0;31m---------------------------------------------------------------------------\u001b[0m",
            "\u001b[0;31mTypeError\u001b[0m                                 Traceback (most recent call last)",
            "\u001b[0;32m<ipython-input-30-9d2ddbe911a9>\u001b[0m in \u001b[0;36m<module>\u001b[0;34m()\u001b[0m\n\u001b[0;32m----> 1\u001b[0;31m \u001b[0my_out\u001b[0m \u001b[0;34m=\u001b[0m \u001b[0mclf\u001b[0m\u001b[0;34m.\u001b[0m\u001b[0mpredict\u001b[0m\u001b[0;34m(\u001b[0m\u001b[0mpred1\u001b[0m\u001b[0;34m,\u001b[0m\u001b[0mbatch_size\u001b[0m\u001b[0;34m=\u001b[0m\u001b[0;36m1\u001b[0m\u001b[0;34m)\u001b[0m\u001b[0;34m\u001b[0m\u001b[0;34m\u001b[0m\u001b[0m\n\u001b[0m",
            "\u001b[0;31mTypeError\u001b[0m: predict() got an unexpected keyword argument 'batch_size'"
          ]
        }
      ]
    },
    {
      "cell_type": "code",
      "metadata": {
        "id": "9l0WAxYbLacW"
      },
      "source": [],
      "execution_count": null,
      "outputs": []
    }
  ]
}